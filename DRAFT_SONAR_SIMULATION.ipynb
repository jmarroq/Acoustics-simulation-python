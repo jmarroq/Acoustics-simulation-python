{
 "cells": [
  {
   "cell_type": "markdown",
   "id": "db583694",
   "metadata": {},
   "source": [
    "# Echolocation Proof of Concept: Wave Propagation Simulation\n",
    "\n",
    "We consider the two-dimensional scalar wave equation for a field $U(x,y,t)$:\n",
    "\n",
    "$$\n",
    "\\frac{\\partial^2 U}{\\partial t^2} = c^2 \\left( \\frac{\\partial^2 U}{\\partial x^2} + \\frac{\\partial^2 U}{\\partial y^2} \\right)\n",
    "$$\n",
    "\n",
    "where:\n",
    "- $U(x,y,t)$ is the wave amplitude at spatial coordinates $(x,y)$ and time $t$,\n",
    "- $c$ is the constant speed of sound in the medium.\n",
    "\n",
    "This partial differential equation describes the propagation of acoustic waves in a homogeneous, isotropic two-dimensional space.\n",
    "\n",
    "---\n",
    "\n",
    "## Numerical Method\n",
    "\n",
    "The wave equation is solved numerically using the finite difference method (FDM):\n",
    "\n",
    "- Spatial derivatives $\\frac{\\partial^2}{\\partial x^2}$ and $\\frac{\\partial^2}{\\partial y^2}$ are approximated with a discrete Laplacian operator.\n",
    "- Temporal derivatives $\\frac{\\partial^2}{\\partial t^2}$ are approximated using a second-order central difference.\n",
    "\n",
    "The resulting update rule at each grid point $(i,j)$ and timestep $t$ is:\n",
    "\n",
    "$$\n",
    "U^{t+1}_{i,j} = 2U^{t}_{i,j} - U^{t-1}_{i,j} + c^2 \\Delta t^2 \\nabla^2 U^{t}_{i,j}\n",
    "$$\n",
    "\n",
    "where:\n",
    "- $\\nabla^2$ is the discrete Laplacian of $U$,\n",
    "- $\\Delta t$ is the simulation timestep size.\n",
    "\n",
    "---\n",
    "\n",
    "## Simulation Setup\n",
    "\n",
    "- A **chirped sonar pulse** is generated at a point source located at the center of the domain.\n",
    "- **Rectangular reflective objects** are placed in the simulation field, creating echoes and scattering.\n",
    "- **Hydrophones** (receivers) are positioned around the source to record the returning wave signals over time.\n",
    "\n",
    "The simulation space is discretized into a uniform square grid (500x500), and all quantities are dimensionless.\n",
    "\n"
   ]
  },
  {
   "cell_type": "markdown",
   "id": "f1274fef",
   "metadata": {},
   "source": [
    "### 1. Libraries"
   ]
  },
  {
   "cell_type": "code",
   "execution_count": 55,
   "id": "5d228047",
   "metadata": {},
   "outputs": [],
   "source": [
    "import numpy as np\n",
    "from scipy.signal import chirp\n",
    "from matplotlib import pyplot as plt\n",
    "from scipy.signal.windows import gaussian\n",
    "from numpy.random import uniform\n",
    "import matplotlib.animation as animation\n",
    "from matplotlib.animation import FFMpegWriter\n",
    "import matplotlib.gridspec as gridspec"
   ]
  },
  {
   "cell_type": "markdown",
   "id": "0b291ea2",
   "metadata": {},
   "source": [
    "### 2. Class Definitions"
   ]
  },
  {
   "cell_type": "code",
   "execution_count": 56,
   "id": "72041a5d",
   "metadata": {},
   "outputs": [],
   "source": [
    "class Coord2d:\n",
    "    \"\"\"Simple 2D coordinate class\"\"\"\n",
    "    def __init__(self, x, y):\n",
    "        self.x = x\n",
    "        self.y = y\n",
    "\n",
    "class SimulationDomain:\n",
    "    \"\"\"Defines the simulation domain in time and space\"\"\"\n",
    "    def __init__(self, frames, width, height):\n",
    "        self.frames = frames\n",
    "        self.width = width\n",
    "        self.height = height\n",
    "        \n",
    "\n",
    "class Source:\n",
    "    \"\"\"Defines a sonar source\"\"\"\n",
    "    def __init__(self, signal, coord, spread):\n",
    "        self.signal = signal        # 1D array of pulse over time\n",
    "        self.coord = coord          # instance of Coord2d\n",
    "        self.spread = spread        # spread radius\n",
    "\n",
    "class Object:\n",
    "    \"\"\"Defines a rectangular reflective object\"\"\"\n",
    "    def __init__(self, bottom_left, top_right):\n",
    "        self.bottom_left = bottom_left\n",
    "        self.top_right = top_right\n"
   ]
  },
  {
   "cell_type": "markdown",
   "id": "e3af928b",
   "metadata": {},
   "source": [
    "### 3. Core Math Function\n"
   ]
  },
  {
   "cell_type": "code",
   "execution_count": 57,
   "id": "14eb278e",
   "metadata": {},
   "outputs": [],
   "source": [
    "def laplace_op(f_xy):\n",
    "    \"\"\"Fast 2D Laplacian operator using array shifts\"\"\"\n",
    "    left = np.roll(f_xy, -1, axis=0)\n",
    "    right = np.roll(f_xy, +1, axis=0)\n",
    "    up = np.roll(f_xy, -1, axis=1)\n",
    "    down = np.roll(f_xy, +1, axis=1)\n",
    "    return left + right + up + down - 4*f_xy\n"
   ]
  },
  {
   "cell_type": "markdown",
   "id": "0cad65f5",
   "metadata": {},
   "source": [
    "### 4. Pulse / Source / Object / Sensors Functions\n"
   ]
  },
  {
   "cell_type": "code",
   "execution_count": 58,
   "id": "22bfcbb7",
   "metadata": {},
   "outputs": [],
   "source": [
    "def make_gaussian_2d(source_spread):\n",
    "    \"\"\"Creates a 2D Gaussian spread around the source\"\"\"\n",
    "    std = source_spread /5\n",
    "    gaussian_1d = gaussian(2*source_spread, std)\n",
    "    gaussian_2d = np.outer(gaussian_1d, gaussian_1d)\n",
    "    return gaussian_2d\n",
    "\n",
    "def source_signal(tau):\n",
    "    \"\"\"Generates a chirped Gaussian pulse\"\"\"\n",
    "    chirp_speed = 5\n",
    "    chirp_min_freq = 0.3\n",
    "    chirp_max_freq = 1\n",
    "    decay_speed = 0.5\n",
    "    \n",
    "    chirp_sig = chirp(chirp_speed * tau, chirp_min_freq, chirp_speed * tau[-1],chirp_max_freq)\n",
    "    chirplet = chirp_sig * np.exp(-(decay_speed * tau)**2)\n",
    "    return chirplet\n",
    "\n",
    "def create_source(sim, space_spread, time_spread, amp=1.0):\n",
    "    \"\"\"Creates a sonar source centered in the domain\"\"\"\n",
    "    tau = np.linspace(-4, 4, time_spread)\n",
    "    chirplet = source_signal(tau)\n",
    "    signal = np.zeros(sim.frames)\n",
    "    signal[0:time_spread] = chirplet * amp\n",
    "    return Source(signal, Coord2d(sim.width // 2, sim.height // 2), space_spread)\n",
    "\n",
    "def create_object(sim, width, height):\n",
    "    \"\"\"Creates a rectangular object in a fixed location\"\"\"\n",
    "    x = sim.width // 2\n",
    "    y = sim.height // 3\n",
    "    return Object(Coord2d(x-width//2, y-height//2), Coord2d(x+width//2, y+height//2))\n",
    "\n",
    "def make_sensor(dataset, sim):\n",
    "    \"\"\"Places hydrophones at manually defined locations\"\"\"\n",
    "    sensors = [\n",
    "    Coord2d(x=300, y=250),  # Mic 1 - right of center\n",
    "    Coord2d(x=250, y=300),  # Mic 2 - above center\n",
    "    Coord2d(x=200, y=250),  # Mic 3 - left of center\n",
    "    Coord2d(x=250, y=200),  # Mic 4 - below center\n",
    "    ]\n",
    "\n",
    "    # Get signals from the dataset\n",
    "    signals = []\n",
    "    for mic in sensors:\n",
    "        signal = dataset[:, int(mic.x), int(mic.y)]\n",
    "        signals.append(signal)\n",
    "    \n",
    "    return sensors, signals"
   ]
  },
  {
   "cell_type": "markdown",
   "id": "77400923",
   "metadata": {},
   "source": [
    "### 5. Contributions (sources, objects, noise)"
   ]
  },
  {
   "cell_type": "code",
   "execution_count": 59,
   "id": "c7f0de62",
   "metadata": {},
   "outputs": [],
   "source": [
    "def add_noise_contribution(sim, seq, noise):\n",
    "    \"\"\"Adds random background noise after simulation\"\"\"\n",
    "    seq += uniform(-noise, noise, (sim.frames, sim.width, sim.height))\n",
    "\n",
    "def add_source_contributions(seq, t, spread_func, source):\n",
    "    \"\"\"Adds source signal contribution at timestep t\"\"\"\n",
    "    coord = source.coord\n",
    "    r = source.spread\n",
    "    seq[t, coord.x-r:coord.x+r, coord.y-r:coord.y+r] += spread_func * source.signal[t]\n",
    "\n",
    "def add_object_contributions(seq, t, obj):\n",
    "    \"\"\"Applies object boundary condition at timestep t\"\"\"\n",
    "    bl_x, bl_y = obj.bottom_left.x, obj.bottom_left.y\n",
    "    tr_x, tr_y = obj.top_right.x, obj.top_right.y\n",
    "    seq[t, bl_x:tr_x, bl_y:tr_y] = 0\n"
   ]
  },
  {
   "cell_type": "markdown",
   "id": "aaf003c6",
   "metadata": {},
   "source": [
    "### 6. WAVE SIMULATION (main loop)"
   ]
  },
  {
   "cell_type": "code",
   "execution_count": 60,
   "id": "96ae6e21",
   "metadata": {},
   "outputs": [],
   "source": [
    "def wave_sim(sim, source, c, obj, noise=0):\n",
    "    \"\"\"\n",
    "    Simulates the time evolution of the sonar wave field over a 2D domain.\n",
    "    Returns:\n",
    "        np.ndarray: A 3D array of shape (frames, width, height) representing the wave amplitude over time.\n",
    "    Method:\n",
    "        - Initializes the simulation with zeros.\n",
    "        - At each timestep t (starting from t=2):\n",
    "            - Updates the wave field based on the discrete wave equation.\n",
    "            - Injects the source signal at its location.\n",
    "            - Applies object boundary conditions (e.g., blocking, reflections).\n",
    "    \"\"\"\n",
    "    spread_func = make_gaussian_2d(source.spread)\n",
    "    seq = np.zeros((sim.frames, sim.width, sim.height), dtype='float64')\n",
    "\n",
    "    for t in range(2, sim.frames):\n",
    "        seq[t] = 2*seq[t-1] - seq[t-2] + (c**2) * laplace_op(seq[t-1])  \n",
    "        add_source_contributions(seq, t, spread_func, source) \n",
    "        add_object_contributions(seq, t, obj) \n",
    "    if noise > 0:\n",
    "        add_noise_contribution(sim, seq, noise)\n",
    "    \n",
    "    return seq"
   ]
  },
  {
   "cell_type": "markdown",
   "id": "d95182bc",
   "metadata": {},
   "source": [
    "### 8. Simulation Setup"
   ]
  },
  {
   "cell_type": "code",
   "execution_count": 61,
   "id": "27ea34a6",
   "metadata": {},
   "outputs": [],
   "source": [
    "# Define simulation domain\n",
    "length = 500\n",
    "sim = SimulationDomain(frames=1500, width=length, height=length)\n",
    "\n",
    "# Create obstacle and sonar source\n",
    "obj_width, obj_height = 50, 5\n",
    "space_spread = 2\n",
    "time_spread = sim.frames // 10\n",
    "source_amp = 1.0\n",
    "\n",
    "obj = create_object(sim, obj_width, obj_height)\n",
    "source = create_source(sim, space_spread, time_spread, source_amp)\n",
    "noise_amp = source_amp / 0.1\n"
   ]
  },
  {
   "cell_type": "markdown",
   "id": "396ab3e7",
   "metadata": {},
   "source": [
    "### 9. Simulation Execution"
   ]
  },
  {
   "cell_type": "code",
   "execution_count": 62,
   "id": "cafa374f",
   "metadata": {},
   "outputs": [],
   "source": [
    "# Set \"speed of sound\" in pixels per timestep (courant number since no dimensions)\n",
    "optimal_c = (length /(2 * sim.frames))\n",
    "max_c = 0.4\n",
    "c = min(optimal_c, max_c)\n",
    "\n",
    "# Run simulation\n",
    "dataset = wave_sim(sim, source, c, obj)\n",
    "\n",
    "# Prepare value limits for visualization\n",
    "vmin = -source_amp\n",
    "vmax = source_amp\n",
    "\n",
    "# Set up hydrophones\n",
    "mics, signals = make_sensor(dataset, sim)"
   ]
  },
  {
   "cell_type": "code",
   "execution_count": 63,
   "id": "28eaa644",
   "metadata": {},
   "outputs": [
    {
     "data": {
      "image/png": "[encoded data removed]",
      "text/plain": [
       "<Figure size 800x400 with 1 Axes>"
      ]
     },
     "metadata": {},
     "output_type": "display_data"
    }
   ],
   "source": [
    "# Plots the shape of the injected source\n",
    "t = np.linspace(0, sim.frames, sim.frames)  \n",
    "\n",
    "# Plot the pulse\n",
    "plt.figure(figsize=(8,4))\n",
    "plt.plot(t, source.signal)\n",
    "plt.title('Source Pulse Over Time')\n",
    "plt.xlabel('Timestep')\n",
    "plt.ylabel('Amplitude')\n",
    "plt.xlim(0, 200)\n",
    "plt.grid(True)\n",
    "plt.show()\n"
   ]
  },
  {
   "cell_type": "markdown",
   "id": "0bae85c7",
   "metadata": {},
   "source": [
    "### 10. Visualization and Animation"
   ]
  },
  {
   "cell_type": "code",
   "execution_count": 64,
   "id": "326c87de",
   "metadata": {},
   "outputs": [],
   "source": [
    "# Animation settings\n",
    "skip = 7\n",
    "max_frames = 500\n",
    "animation_fps = 15\n",
    "animation_bitrate = 1500\n"
   ]
  },
  {
   "cell_type": "code",
   "execution_count": null,
   "id": "afb22cc6",
   "metadata": {},
   "outputs": [],
   "source": [
    "# Prepare frame data for animation\n",
    "display_data = dataset[:max_frames * skip:skip]  # Downsample frames\n",
    "display_frames = len(display_data)\n",
    "\n",
    "# Mark hydrophone positions in the video data\n",
    "video_data = np.copy(display_data)\n",
    "for mic in mics:\n",
    "    video_data[:, int(mic.x), int(mic.y)] = vmax   # Mark mic location bright\n",
    "\n",
    "# Layout figure: 4 hydrophone signal plots (left), 1 wave animation plot (right)\n",
    "fig = plt.figure(figsize=(20, 18))\n",
    "gs = gridspec.GridSpec(4, 2, width_ratios=[1, 2])\n",
    "\n",
    "# Create hydrophone plots\n",
    "signal_axes = [fig.add_subplot(gs[i, 0]) for i in range(4)]\n",
    "\n",
    "# Create main animation plot\n",
    "anim_ax = fig.add_subplot(gs[:, 1])\n",
    "\n",
    "# Initialize plot elements\n",
    "lines = [ax.plot([], [])[0] for ax in signal_axes]\n",
    "anim = anim_ax.imshow(np.zeros((sim.width, sim.height)), cmap='inferno', vmin=vmin, vmax=vmax)\n",
    "\n",
    "# Update function for each animation frame\n",
    "def update(i):\n",
    "    # Update wave field\n",
    "    anim.set_array(video_data[i])\n",
    "\n",
    "    # Update hydrophone signals\n",
    "    t = np.arange(i * skip)  # Time axis\n",
    "    for n, line in enumerate(lines):\n",
    "        line.set_data(t, signals[n][:i * skip])\n",
    "\n",
    "    return (*lines, anim)\n",
    "\n",
    "# Style hydrophone signal plots and add titles\n",
    "for idx, ax in enumerate(signal_axes, start=1):\n",
    "    ax.set_facecolor(\"#f9f9f9\")\n",
    "    ax.grid(True, linestyle='--')\n",
    "    ax.set_xlim(0, sim.frames)\n",
    "    ax.set_ylim(-0.3, 0.3)\n",
    "    ax.set_title(f\"Hydrophone {idx}\", fontsize=13)\n",
    "\n",
    "# Style wave animation plot\n",
    "anim_ax.set_title(\"Echolocation Proof of Concept: Wave Propagation Simulation\", fontsize=16)\n",
    "anim_ax.set_xlabel('X ')\n",
    "anim_ax.set_ylabel('Y ')\n",
    "anim_ax.set_xticks(np.linspace(0, sim.width, 11))\n",
    "anim_ax.set_yticks(np.linspace(0, sim.height, 11))\n",
    "plt.tight_layout()\n",
    "\n",
    "# Create the animation object\n",
    "ani = animation.FuncAnimation(fig, update,frames=display_frames,blit=True,interval=1000 / animation_fps,repeat=False)\n",
    "\n",
    "# Save the animation as an mp4 video\n",
    "ani.save(\"echolocation.mp4\",dpi=80,writer=FFMpegWriter(fps=animation_fps, bitrate=animation_bitrate,codec='libx264', extra_args=[\"-pix_fmt\", \"yuv420p\"]))\n"
   ]
  }
 ],
 "metadata": {
  "kernelspec": {
   "display_name": "spyder-env",
   "language": "python",
   "name": "python3"
  },
  "language_info": {
   "codemirror_mode": {
    "name": "ipython",
    "version": 3
   },
   "file_extension": ".py",
   "mimetype": "text/x-python",
   "name": "python",
   "nbconvert_exporter": "python",
   "pygments_lexer": "ipython3",
   "version": "3.10.16"
  }
 },
 "nbformat": 4,
 "nbformat_minor": 5
}
